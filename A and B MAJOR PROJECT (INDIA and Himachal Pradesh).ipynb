{
 "cells": [
  {
   "cell_type": "markdown",
   "metadata": {},
   "source": [
    "# COVID PRESENT STATE: INDIA & Himachal Pradesh  (DATA TILL 03.07.2020)"
   ]
  },
  {
   "cell_type": "code",
   "execution_count": 4,
   "metadata": {},
   "outputs": [
    {
     "name": "stdout",
     "output_type": "stream",
     "text": [
      "Collecting geopandas\n",
      "  Using cached https://files.pythonhosted.org/packages/f7/a4/e66aafbefcbb717813bf3a355c8c4fc3ed04ea1dd7feb2920f2f4f868921/geopandas-0.8.1-py2.py3-none-any.whl\n",
      "Collecting shapely (from geopandas)\n",
      "  Using cached https://files.pythonhosted.org/packages/00/b6/71bd30edeab05060e8fbfb16bf2a074364b037615cd823945e0052d26484/Shapely-1.7.1-cp37-cp37m-win_amd64.whl\n",
      "Collecting fiona (from geopandas)\n",
      "  Using cached https://files.pythonhosted.org/packages/6d/42/f4a7cac53b28fa70e9a93d0e89a24d33e14826dad6644b699362ad84dde0/Fiona-1.8.13.post1.tar.gz\n",
      "Note: you may need to restart the kernel to use updated packages.\n"
     ]
    },
    {
     "name": "stderr",
     "output_type": "stream",
     "text": [
      "    ERROR: Command errored out with exit status 1:\n",
      "     command: 'C:\\ProgramData\\Anaconda3\\python.exe' -c 'import sys, setuptools, tokenize; sys.argv[0] = '\"'\"'C:\\\\Users\\\\mandy\\\\AppData\\\\Local\\\\Temp\\\\pip-install-p44ektqr\\\\fiona\\\\setup.py'\"'\"'; __file__='\"'\"'C:\\\\Users\\\\mandy\\\\AppData\\\\Local\\\\Temp\\\\pip-install-p44ektqr\\\\fiona\\\\setup.py'\"'\"';f=getattr(tokenize, '\"'\"'open'\"'\"', open)(__file__);code=f.read().replace('\"'\"'\\r\\n'\"'\"', '\"'\"'\\n'\"'\"');f.close();exec(compile(code, __file__, '\"'\"'exec'\"'\"'))' egg_info --egg-base pip-egg-info\n",
      "         cwd: C:\\Users\\mandy\\AppData\\Local\\Temp\\pip-install-p44ektqr\\fiona\\\n",
      "    Complete output (1 lines):\n",
      "    A GDAL API version must be specified. Provide a path to gdal-config using a GDAL_CONFIG environment variable or use a GDAL_VERSION environment variable.\n",
      "    ----------------------------------------\n",
      "ERROR: Command errored out with exit status 1: python setup.py egg_info Check the logs for full command output.\n"
     ]
    }
   ],
   "source": [
    "pip install --user geopandas"
   ]
  },
  {
   "cell_type": "code",
   "execution_count": 1,
   "metadata": {},
   "outputs": [
    {
     "ename": "ModuleNotFoundError",
     "evalue": "No module named 'geopandas'",
     "output_type": "error",
     "traceback": [
      "\u001b[1;31m---------------------------------------------------------------------------\u001b[0m",
      "\u001b[1;31mModuleNotFoundError\u001b[0m                       Traceback (most recent call last)",
      "\u001b[1;32m<ipython-input-1-c3fe6faa6c27>\u001b[0m in \u001b[0;36m<module>\u001b[1;34m\u001b[0m\n\u001b[0;32m      3\u001b[0m \u001b[1;32mfrom\u001b[0m \u001b[0msklearn\u001b[0m \u001b[1;32mimport\u001b[0m \u001b[0mmetrics\u001b[0m\u001b[1;33m\u001b[0m\u001b[1;33m\u001b[0m\u001b[0m\n\u001b[0;32m      4\u001b[0m \u001b[1;32mimport\u001b[0m \u001b[0mmatplotlib\u001b[0m\u001b[1;33m.\u001b[0m\u001b[0mpyplot\u001b[0m \u001b[1;32mas\u001b[0m \u001b[0mplt\u001b[0m\u001b[1;33m\u001b[0m\u001b[1;33m\u001b[0m\u001b[0m\n\u001b[1;32m----> 5\u001b[1;33m \u001b[1;32mimport\u001b[0m \u001b[0mgeopandas\u001b[0m \u001b[1;32mas\u001b[0m \u001b[0mgpd\u001b[0m\u001b[1;33m\u001b[0m\u001b[1;33m\u001b[0m\u001b[0m\n\u001b[0m\u001b[0;32m      6\u001b[0m \u001b[1;32mimport\u001b[0m \u001b[0mseaborn\u001b[0m \u001b[1;32mas\u001b[0m \u001b[0msns\u001b[0m\u001b[1;33m\u001b[0m\u001b[1;33m\u001b[0m\u001b[0m\n\u001b[0;32m      7\u001b[0m \u001b[1;33m\u001b[0m\u001b[0m\n",
      "\u001b[1;31mModuleNotFoundError\u001b[0m: No module named 'geopandas'"
     ]
    }
   ],
   "source": [
    "import numpy as np\n",
    "import pandas as pd\n",
    "from sklearn import metrics\n",
    "import matplotlib.pyplot\n",
    "import seaborn as sns\n",
    "\n",
    "CovidDF = pd.read_csv(\"C:/Users/mandy/Desktop/Itvedant/machine lea/covid-19.csv\").drop(columns = 'Sno')\n",
    "PoplDF = pd.read_csv(\"C:/Users/mandy/Desktop/Itvedant/machine lea/population_india_census2011.csv\").sort_values(by=['State / Union Territory'])\n",
    "PoplDF.set_index(\"State / Union Territory\", inplace = True)\n",
    "CovidData = CovidDF.groupby('State/UnionTerritory').sum()\n",
    "PoplData = pd.DataFrame(PoplDF['Population'])\n",
    "FinalData = pd.concat([CovidData, PoplData], axis=1, sort=True).dropna().rename_axis(\"State\")\n",
    "FinalData['IFR'] = FinalData.apply(lambda row: (row.Deaths*100)/row.Confirmed, axis = 1)\n",
    "FinalData['CMR'] = FinalData.apply(lambda row: (row.Deaths*100)/row.Population, axis = 1)\n",
    "FinalData['CCR'] = FinalData.apply(lambda row: (row.Cured*100)/(row.Confirmed), axis = 1)\n",
    "\n",
    "FinalDataF = FinalData.drop('Ladakh')\n",
    "FinalDataF.reset_index(inplace = True)\n",
    "FinalDataF.head()"
   ]
  },
  {
   "cell_type": "code",
   "execution_count": null,
   "metadata": {},
   "outputs": [],
   "source": [
    "fp = \"Indian_States.shp\"\n",
    "map_df1 = gpd.read_file(fp)\n",
    "map_df2 = map_df1.drop(7)\n",
    "map_df3 = map_df2.drop(16)\n",
    "map_df3.head()"
   ]
  },
  {
   "cell_type": "code",
   "execution_count": null,
   "metadata": {},
   "outputs": [],
   "source": [
    "FinalDataF['State'].iloc[0]  = 'Andaman & Nicobar Island'\n",
    "FinalDataF['State'].iloc[2] = 'Arunanchal Pradesh'\n",
    "FinalDataF['State'].iloc[7] = 'Dadara & Nagar Havelli'\n",
    "FinalDataF['State'].iloc[8] = 'NCT of Delhi'\n",
    "FinalDataF['State'].iloc[13] = 'Jammu & Kashmir'\n",
    "FinalDataF['State'].iloc[29] = 'Telangana'"
   ]
  },
  {
   "cell_type": "code",
   "execution_count": null,
   "metadata": {},
   "outputs": [],
   "source": [
    "map_df3.plot()\n",
    "plt.show()"
   ]
  },
  {
   "cell_type": "code",
   "execution_count": null,
   "metadata": {},
   "outputs": [],
   "source": [
    "merged = map_df3.set_index('st_nm').join(FinalDataF.set_index('State'))\n",
    "merged.head()"
   ]
  },
  {
   "cell_type": "code",
   "execution_count": null,
   "metadata": {},
   "outputs": [],
   "source": [
    "merged.describe()"
   ]
  },
  {
   "cell_type": "code",
   "execution_count": null,
   "metadata": {
    "scrolled": false
   },
   "outputs": [],
   "source": [
    "fig, ax = plt.subplots(1, figsize=(10, 6))\n",
    "ax.axis('off')\n",
    "ax.set_title('POPULATION MAP', fontdict={'fontsize': '12', 'fontweight' : '3'})\n",
    "merged.plot(column='Population', cmap='Blues', linewidth=0.8, ax=ax, edgecolor='0.8', legend=True)\n",
    "#fig.savefig(\"INDIA_Population.png\", dpi=100)\n",
    "plt.show()\n",
    "\n",
    "fig, ax = plt.subplots(1, figsize=(10, 6))\n",
    "ax.axis('off')\n",
    "ax.set_title('CONFIRMED CASES', fontdict={'fontsize': '12', 'fontweight' : '3'})\n",
    "merged.plot(column='Confirmed', cmap='YlOrRd', linewidth=0.8, ax=ax, edgecolor='0.8', legend=True)\n",
    "#fig.savefig(\"INDIA_Confirmed.png\", dpi=100)\n",
    "plt.show()\n",
    "\n",
    "fig, ax = plt.subplots(1, figsize=(10, 6))\n",
    "ax.axis('off')\n",
    "ax.set_title('CURED CASES', fontdict={'fontsize': '12', 'fontweight' : '3'})\n",
    "merged.plot(column='Cured', cmap='Greens', linewidth=0.8, ax=ax, edgecolor='0.8', legend=True)\n",
    "#fig.savefig(\"INDIA_Cured.png\", dpi=100)\n",
    "plt.show()\n",
    "\n",
    "fig, ax = plt.subplots(1, figsize=(10, 6))\n",
    "ax.axis('off')\n",
    "ax.set_title('DEATH CASES', fontdict={'fontsize': '12', 'fontweight' : '3'})\n",
    "merged.plot(column='Deaths', cmap='Reds', linewidth=0.8, ax=ax, edgecolor='0.8', legend=True)\n",
    "#fig.savefig(\"INDIA_Deaths.png\", dpi=100)\n",
    "plt.show()\n",
    "\n",
    "fig, ax = plt.subplots(1, figsize=(10, 6))\n",
    "ax.axis('off')\n",
    "ax.set_title('IFR', fontdict={'fontsize': '12', 'fontweight' : '3'})\n",
    "merged.plot(column='IFR', cmap='OrRd', linewidth=0.8, ax=ax, edgecolor='0.8', legend=True)\n",
    "#fig.savefig(\"INDIA_IFR.png\", dpi=100)\n",
    "plt.show()\n",
    "\n",
    "fig, ax = plt.subplots(1, figsize=(10, 6))\n",
    "ax.axis('off')\n",
    "ax.set_title('CMR', fontdict={'fontsize': '12', 'fontweight' : '3'})\n",
    "merged.plot(column='CMR', cmap='OrRd', linewidth=0.8, ax=ax, edgecolor='0.8', legend=True)\n",
    "#fig.savefig(\"INDIA_CMR.png\", dpi=100)\n",
    "plt.show()\n",
    "\n",
    "fig, ax = plt.subplots(1, figsize=(10, 6))\n",
    "ax.axis('off')\n",
    "ax.set_title('CCR - RECVERY RATE', fontdict={'fontsize': '12', 'fontweight' : '3'})\n",
    "merged.plot(column='CCR', cmap='Blues', linewidth=0.8, ax=ax, edgecolor='0.8', legend=True)\n",
    "#fig.savefig(\"INDIA_CCR.png\", dpi=100)\n",
    "plt.show()\n"
   ]
  },
  {
   "cell_type": "code",
   "execution_count": null,
   "metadata": {},
   "outputs": [],
   "source": [
    "FinalDataF.head()"
   ]
  },
  {
   "cell_type": "code",
   "execution_count": null,
   "metadata": {},
   "outputs": [],
   "source": [
    "FinalDataP = FinalDataF.set_index(\"State\")\n",
    "FinalDataP['Population'].plot(kind = 'bar', title = 'POPULATION')\n",
    "plt.show()"
   ]
  },
  {
   "cell_type": "code",
   "execution_count": null,
   "metadata": {},
   "outputs": [],
   "source": [
    "FinalDataP['Confirmed'].plot(kind = 'bar',color = 'orange', title = 'CONFIRMED')\n",
    "plt.show()"
   ]
  },
  {
   "cell_type": "code",
   "execution_count": null,
   "metadata": {},
   "outputs": [],
   "source": [
    "FinalDataP['Cured'].plot(kind = 'bar', color = 'green', title = 'CURED')\n",
    "plt.show()"
   ]
  },
  {
   "cell_type": "code",
   "execution_count": null,
   "metadata": {},
   "outputs": [],
   "source": [
    "FinalDataP['Deaths'].plot(kind = 'bar',color = 'red', title = 'DEATHS')\n",
    "plt.show()"
   ]
  },
  {
   "cell_type": "code",
   "execution_count": null,
   "metadata": {},
   "outputs": [],
   "source": [
    "FinalDataP['IFR'].plot(kind = 'bar',color = 'brown', title = 'IFR')\n",
    "plt.show()"
   ]
  },
  {
   "cell_type": "code",
   "execution_count": null,
   "metadata": {},
   "outputs": [],
   "source": [
    "FinalDataP['CMR'].plot(kind = 'bar', color = 'brown', title = 'CMR')\n",
    "plt.show()"
   ]
  },
  {
   "cell_type": "code",
   "execution_count": null,
   "metadata": {},
   "outputs": [],
   "source": [
    "FinalDataP['CCR'].plot(kind = 'bar', title = 'CCR - RECOVERY RATE')\n",
    "plt.show()"
   ]
  },
  {
   "cell_type": "code",
   "execution_count": null,
   "metadata": {},
   "outputs": [],
   "source": [
    "FinalDataP['CCR'].describe()"
   ]
  },
  {
   "cell_type": "markdown",
   "metadata": {},
   "source": [
    "# Analyis for all Districts of India. Any State analasis can be done from it."
   ]
  },
  {
   "cell_type": "code",
   "execution_count": null,
   "metadata": {},
   "outputs": [],
   "source": [
    "fp1 = \"gadm36_IND_2.shp\"\n",
    "map_df1 = gpd.read_file(fp1)\n",
    "map_df1.head()"
   ]
  },
  {
   "cell_type": "code",
   "execution_count": null,
   "metadata": {},
   "outputs": [],
   "source": [
    "map_df1 = map_df1[['NAME_2', 'geometry']]\n",
    "map_df1.plot()\n",
    "plt.show()"
   ]
  },
  {
   "cell_type": "code",
   "execution_count": null,
   "metadata": {},
   "outputs": [],
   "source": [
    "district_wise1 = pd.read_csv('district_wise.csv')\n",
    "district_wise1.drop(794, inplace = True)\n",
    "district_wise1.drop(4, inplace = True)\n",
    "district_wise1.drop(0, inplace = True)\n",
    "district_wise1.head()"
   ]
  },
  {
   "cell_type": "code",
   "execution_count": null,
   "metadata": {},
   "outputs": [],
   "source": [
    "district_wise1 = district_wise1[['State','District', 'Confirmed','Active','Recovered','Deceased']]\n",
    "merged1 = map_df1.set_index('NAME_2').join(district_wise1.set_index('District'))\n",
    "merged1.head()"
   ]
  },
  {
   "cell_type": "code",
   "execution_count": null,
   "metadata": {},
   "outputs": [],
   "source": [
    "print(merged1.isna().sum())\n",
    "print('\\nThere are some district names that are either mispelled or missing. Need not correct them as they are few in number.')"
   ]
  },
  {
   "cell_type": "code",
   "execution_count": null,
   "metadata": {},
   "outputs": [],
   "source": [
    "merged1.describe().round()"
   ]
  },
  {
   "cell_type": "code",
   "execution_count": null,
   "metadata": {},
   "outputs": [],
   "source": [
    "fig, ax = plt.subplots(1, figsize=(10, 6))\n",
    "ax.axis('off')\n",
    "ax.set_title('CONFIRMED', fontdict={'fontsize': '12', 'fontweight' : '3'})\n",
    "merged1.plot(column='Confirmed', cmap='YlOrRd', linewidth=0.8, ax=ax, edgecolor='0.8', legend=True)\n",
    "#fig.savefig(\"District_wise_Confirmed.png\", dpi=100)\n",
    "plt.show()\n",
    "\n",
    "fig, ax = plt.subplots(1, figsize=(10, 6))\n",
    "ax.axis('off')\n",
    "ax.set_title('ACTIVE', fontdict={'fontsize': '12', 'fontweight' : '3'})\n",
    "merged1.plot(column='Active', cmap='YlOrRd', linewidth=0.8, ax=ax, edgecolor='0.8', legend=True)\n",
    "#fig.savefig(\"District_wise_Active.png\", dpi=100)\n",
    "plt.show()\n",
    "\n",
    "fig, ax = plt.subplots(1, figsize=(10, 6))\n",
    "ax.axis('off')\n",
    "ax.set_title('RECOVERED', fontdict={'fontsize': '12', 'fontweight' : '3'})\n",
    "merged1.plot(column='Recovered', cmap='YlOrRd', linewidth=0.8, ax=ax, edgecolor='0.8', legend=True)\n",
    "#fig.savefig(\"District_wise_Recovered.png\", dpi=100)\n",
    "plt.show()\n",
    "\n",
    "fig, ax = plt.subplots(1, figsize=(10, 6))\n",
    "ax.axis('off')\n",
    "ax.set_title('DECEASED', fontdict={'fontsize': '12', 'fontweight' : '3'})\n",
    "merged1.plot(column='Deceased', cmap='YlOrRd', linewidth=0.8, ax=ax, edgecolor='0.8', legend=True)\n",
    "#fig.savefig(\"District_wise_Deceased.png\", dpi=100)\n",
    "plt.show()"
   ]
  },
  {
   "cell_type": "code",
   "execution_count": null,
   "metadata": {},
   "outputs": [],
   "source": []
  },
  {
   "cell_type": "markdown",
   "metadata": {},
   "source": [
    "# COVID-19 ML ANALYSIS FOR HIMACHAL PRADESH"
   ]
  },
  {
   "cell_type": "code",
   "execution_count": null,
   "metadata": {},
   "outputs": [],
   "source": [
    "fp2 = \"gadm36_IND_2.shp\"\n",
    "map_df2 = gpd.read_file(fp2)\n",
    "map_df2.head()"
   ]
  },
  {
   "cell_type": "code",
   "execution_count": null,
   "metadata": {},
   "outputs": [],
   "source": [
    "map_df2 = map_df2[['NAME_1', 'NAME_2', 'geometry']]\n",
    "map_df2 = map_df2[map_df2['NAME_1'] =='Himachal Pradesh']\n",
    "map_df2.plot()\n",
    "plt.show()"
   ]
  },
  {
   "cell_type": "code",
   "execution_count": null,
   "metadata": {},
   "outputs": [],
   "source": [
    "map_df2"
   ]
  },
  {
   "cell_type": "code",
   "execution_count": null,
   "metadata": {},
   "outputs": [],
   "source": [
    "district_wise2 = pd.read_csv('district_wise.csv')\n",
    "district_wise2.drop(794, inplace = True)\n",
    "district_wise2.drop(4, inplace = True)\n",
    "district_wise2.drop(0, inplace = True)\n",
    "district_wise2.drop(790, inplace = True)\n",
    "district_wise2.head()"
   ]
  },
  {
   "cell_type": "code",
   "execution_count": null,
   "metadata": {},
   "outputs": [],
   "source": [
    "district_wise2 = district_wise2[['State','District', 'Confirmed','Active','Recovered','Deceased']]\n",
    "district_wise2 = district_wise2[district_wise2['State'] =='Himachal Pradesh']\n",
    "district_wise2"
   ]
  },
  {
   "cell_type": "code",
   "execution_count": null,
   "metadata": {},
   "outputs": [],
   "source": [
    "district_wise2['District'].iloc[6]  = 'Kinnaur'\n",
    "district_wise2['District'].iloc[10] = 'Shimla'\n",
    "district_wise2['District'].iloc[12] = 'Una'"
   ]
  },
  {
   "cell_type": "code",
   "execution_count": null,
   "metadata": {},
   "outputs": [],
   "source": [
    "merged2 = map_df2.set_index('NAME_2').join(district_wise2.set_index('District'))\n",
    "merged2"
   ]
  },
  {
   "cell_type": "code",
   "execution_count": null,
   "metadata": {},
   "outputs": [],
   "source": [
    "print(merged2.isna().sum())\n",
    "print('\\nVery few district names are mismatching that we will match.')"
   ]
  },
  {
   "cell_type": "code",
   "execution_count": null,
   "metadata": {},
   "outputs": [],
   "source": [
    "merged2.describe().round()"
   ]
  },
  {
   "cell_type": "code",
   "execution_count": null,
   "metadata": {},
   "outputs": [],
   "source": [
    "merged2['Confirmed'].plot(kind = 'bar',color = 'orange', title = 'CONFIRMED')\n",
    "plt.show()"
   ]
  },
  {
   "cell_type": "code",
   "execution_count": null,
   "metadata": {},
   "outputs": [],
   "source": [
    "fig, ax = plt.subplots(1, figsize=(10, 6))\n",
    "ax.axis('off')\n",
    "ax.set_title('CONFIRMED', fontdict={'fontsize': '12', 'fontweight' : '3'})\n",
    "merged2.plot(column='Confirmed', cmap='YlOrRd', linewidth=0.8, ax=ax, edgecolor='0.8', legend=True)\n",
    "plt.show()"
   ]
  },
  {
   "cell_type": "code",
   "execution_count": null,
   "metadata": {},
   "outputs": [],
   "source": [
    "merged2['Active'].plot(kind = 'bar',color = 'brown', title = 'ACTIVE')\n",
    "plt.show()"
   ]
  },
  {
   "cell_type": "code",
   "execution_count": null,
   "metadata": {},
   "outputs": [],
   "source": [
    "fig, ax = plt.subplots(1, figsize=(10, 6))\n",
    "ax.axis('off')\n",
    "ax.set_title('ACTIVE', fontdict={'fontsize': '12', 'fontweight' : '3'})\n",
    "merged2.plot(column='Active', cmap='OrRd', linewidth=0.8, ax=ax, edgecolor='0.8', legend=True)\n",
    "plt.show()"
   ]
  },
  {
   "cell_type": "code",
   "execution_count": null,
   "metadata": {},
   "outputs": [],
   "source": [
    "merged2['Recovered'].plot(kind = 'bar',color = 'green', title = 'RECOVERED')\n",
    "plt.show()"
   ]
  },
  {
   "cell_type": "code",
   "execution_count": null,
   "metadata": {},
   "outputs": [],
   "source": [
    "fig, ax = plt.subplots(1, figsize=(10, 6))\n",
    "ax.axis('off')\n",
    "ax.set_title('RECOVERED', fontdict={'fontsize': '12', 'fontweight' : '3'})\n",
    "merged2.plot(column='Recovered', cmap='Greens', linewidth=0.8, ax=ax, edgecolor='0.8', legend=True)\n",
    "plt.show()"
   ]
  },
  {
   "cell_type": "code",
   "execution_count": null,
   "metadata": {},
   "outputs": [],
   "source": [
    "merged2['Deceased'].plot(kind = 'bar',color = 'red', title = 'DECEASED')\n",
    "plt.show()"
   ]
  },
  {
   "cell_type": "code",
   "execution_count": null,
   "metadata": {},
   "outputs": [],
   "source": [
    "fig, ax = plt.subplots(1, figsize=(10, 6))\n",
    "ax.axis('off')\n",
    "ax.set_title('DECEASED', fontdict={'fontsize': '12', 'fontweight' : '3'})\n",
    "merged2.plot(column='Deceased', cmap='Reds', linewidth=0.8, ax=ax, edgecolor='0.8', legend=True)\n",
    "plt.show()"
   ]
  },
  {
   "cell_type": "code",
   "execution_count": null,
   "metadata": {},
   "outputs": [],
   "source": [
    "district_wise2.hist()\n",
    "plt.tight_layout()\n",
    "plt.show()\n",
    "print('            Histogram: Himachal Pradesh DISTRICTS Covid-19')"
   ]
  },
  {
   "cell_type": "markdown",
   "metadata": {},
   "source": [
    "# B. Correlation heatmap for various parameters PAML"
   ]
  },
  {
   "cell_type": "code",
   "execution_count": null,
   "metadata": {},
   "outputs": [],
   "source": [
    "CovidTEST1 = pd.read_csv(\"HospitalBedsIndia.csv\")\n",
    "CovidTEST1.drop(36, inplace = True)\n",
    "CovidTEST1.head()"
   ]
  },
  {
   "cell_type": "code",
   "execution_count": null,
   "metadata": {},
   "outputs": [],
   "source": [
    "CovidTEST1['BEDS'] = CovidTEST1['NumRuralBeds_NHP18']+CovidTEST1['NumUrbanBeds_NHP18']\n",
    "CovidTEST1['BEDS'].hist()\n",
    "plt.tight_layout()\n",
    "plt.show()\n",
    "print(' Histogram - HOSPITAL BEDS :STATEWISE INDIA Covid-19')"
   ]
  },
  {
   "cell_type": "code",
   "execution_count": null,
   "metadata": {},
   "outputs": [],
   "source": [
    "COVIDBEDS = CovidTEST1[['State/UT','BEDS']]\n",
    "COVIDBEDS.head()"
   ]
  },
  {
   "cell_type": "code",
   "execution_count": null,
   "metadata": {},
   "outputs": [],
   "source": [
    "FinalDataF.head()"
   ]
  },
  {
   "cell_type": "code",
   "execution_count": null,
   "metadata": {},
   "outputs": [],
   "source": [
    "mergedX = COVIDBEDS.set_index('State/UT').join(FinalDataF.set_index('State')).dropna()\n",
    "mergedX.head()"
   ]
  },
  {
   "cell_type": "code",
   "execution_count": null,
   "metadata": {},
   "outputs": [],
   "source": [
    "mergedX.hist()\n",
    "plt.tight_layout()\n",
    "plt.show()\n",
    "print(' STATES Vs PARAMETERS  Histogram: India Covid-19')"
   ]
  },
  {
   "cell_type": "code",
   "execution_count": null,
   "metadata": {},
   "outputs": [],
   "source": []
  },
  {
   "cell_type": "code",
   "execution_count": null,
   "metadata": {},
   "outputs": [],
   "source": [
    "corr5 = mergedX.corr()\n",
    "ax = sns.heatmap(\n",
    "    corr5, \n",
    "    vmin=-1, vmax=1, center=0,\n",
    "    cmap=sns.diverging_palette(20, 220, n=200),\n",
    "    square=True\n",
    ")\n",
    "ax.set_xticklabels(\n",
    "    ax.get_xticklabels(),\n",
    "    rotation=45,\n",
    "    horizontalalignment='right'\n",
    ");\n",
    "ax.set_title('Correlation heatmap: COVID-19 INDA CASES\\n')\n",
    "plt.show()"
   ]
  },
  {
   "cell_type": "code",
   "execution_count": null,
   "metadata": {},
   "outputs": [],
   "source": []
  },
  {
   "cell_type": "code",
   "execution_count": null,
   "metadata": {},
   "outputs": [],
   "source": []
  },
  {
   "cell_type": "code",
   "execution_count": null,
   "metadata": {},
   "outputs": [],
   "source": []
  },
  {
   "cell_type": "code",
   "execution_count": null,
   "metadata": {},
   "outputs": [],
   "source": [
    "CovidTEST = pd.read_csv(\"statewise_tested_numbers_data.csv\")\n",
    "CovidTestX = CovidTEST[['Updated On','State','Total Tested','Positive','Total People Currently in Quarantine','Test positivity rate','Tests per thousand','Tests per positive case','Population NCP 2019 Projection']].dropna()\n",
    "print(CovidTestX.tail())"
   ]
  },
  {
   "cell_type": "code",
   "execution_count": null,
   "metadata": {},
   "outputs": [],
   "source": [
    "CovidTestX.hist()\n",
    "plt.tight_layout()\n",
    "plt.show()\n",
    "print('            Histogram - II:TIMESERIES BASED INDIA Covid-19')"
   ]
  },
  {
   "cell_type": "code",
   "execution_count": null,
   "metadata": {},
   "outputs": [],
   "source": [
    "corr2 = CovidTestX.corr()\n",
    "ax = sns.heatmap(\n",
    "    corr2, \n",
    "    vmin=-1, vmax=1, center=0,\n",
    "    cmap=sns.diverging_palette(20, 220, n=200),\n",
    "    square=True\n",
    ")\n",
    "ax.set_xticklabels(\n",
    "    ax.get_xticklabels(),\n",
    "    rotation=45,\n",
    "    horizontalalignment='right'\n",
    ");\n",
    "ax.set_title('Correlation heatmap -I TIMESERIES BASED: COVID-19 INDA CASES\\n')\n",
    "plt.show()"
   ]
  },
  {
   "cell_type": "code",
   "execution_count": null,
   "metadata": {},
   "outputs": [],
   "source": [
    "CovidTestX1 = CovidTestX[CovidTestX['Updated On']=='03/07/2020']\n",
    "print(CovidTestX1)"
   ]
  },
  {
   "cell_type": "code",
   "execution_count": null,
   "metadata": {},
   "outputs": [],
   "source": [
    "CovidTestX1.hist()\n",
    "plt.tight_layout()\n",
    "plt.show()\n",
    "print('            Histogram - II:STATEWISE INDIA Covid-19')"
   ]
  },
  {
   "cell_type": "code",
   "execution_count": null,
   "metadata": {},
   "outputs": [],
   "source": [
    "corr3 = CovidTestX.corr()\n",
    "ax = sns.heatmap(\n",
    "    corr3, \n",
    "    vmin=-1, vmax=1, center=0,\n",
    "    cmap=sns.diverging_palette(20, 220, n=200),\n",
    "    square=True\n",
    ")\n",
    "ax.set_xticklabels(\n",
    "    ax.get_xticklabels(),\n",
    "    rotation=45,\n",
    "    horizontalalignment='right'\n",
    ");\n",
    "ax.set_title('Correlation heatmap -II STATEWISE: COVID-19 INDA CASES\\n')\n",
    "plt.show()"
   ]
  },
  {
   "cell_type": "code",
   "execution_count": null,
   "metadata": {},
   "outputs": [],
   "source": [
    "print('Histogram Heatmap for Covid-19 India Data yileds same result for TIMESERIES BASED as well as STATEWISE analysis.')"
   ]
  },
  {
   "cell_type": "code",
   "execution_count": null,
   "metadata": {},
   "outputs": [],
   "source": [
    "print('Interpretation Ex: As population increases, tests per thousand cases decreases ( which is obvious)')"
   ]
  },
  {
   "cell_type": "code",
   "execution_count": null,
   "metadata": {},
   "outputs": [],
   "source": [
    " "
   ]
  },
  {
   "cell_type": "markdown",
   "metadata": {},
   "source": [
    "# QUICK AND SIMPLE PREDICTOR: As the number of Days increase from the infection increases through contageon. Thus we use this high correlation to build a simple confirmed and cured cases predictor for a future date. We drop inital days data as determined from Advanced ARIMA models (in other notebook of Major Project)"
   ]
  },
  {
   "cell_type": "code",
   "execution_count": null,
   "metadata": {},
   "outputs": [],
   "source": [
    "CovidDF.head()"
   ]
  },
  {
   "cell_type": "code",
   "execution_count": null,
   "metadata": {},
   "outputs": [],
   "source": [
    "PredIND = CovidDF[['Date','Cured','Confirmed']]\n",
    "PredIND.set_index('Date', inplace = True)\n",
    "PredIND.tail()"
   ]
  },
  {
   "cell_type": "code",
   "execution_count": null,
   "metadata": {},
   "outputs": [],
   "source": [
    "PredIN = PredIND.groupby('Date',sort=False).sum()\n",
    "PredIN.tail()"
   ]
  },
  {
   "cell_type": "code",
   "execution_count": null,
   "metadata": {},
   "outputs": [],
   "source": [
    "PredIN.plot()\n",
    "plt.show()"
   ]
  },
  {
   "cell_type": "code",
   "execution_count": null,
   "metadata": {},
   "outputs": [],
   "source": [
    "PredXIN = PredIN[80:]\n",
    "PredXIN.head()"
   ]
  },
  {
   "cell_type": "code",
   "execution_count": null,
   "metadata": {},
   "outputs": [],
   "source": [
    "PredXIN.plot()\n",
    "plt.show()"
   ]
  },
  {
   "cell_type": "markdown",
   "metadata": {},
   "source": [
    "# It can be observed from the curves above (curvature with no point where tangent = 0, that they can be best regressed with polynomial of degree 2¶"
   ]
  },
  {
   "cell_type": "code",
   "execution_count": null,
   "metadata": {},
   "outputs": [],
   "source": [
    "XX  = l = [i for i in range(1,len(PredXIN)+1)]\n",
    "p1 = np.polyfit(XX,PredXIN['Confirmed'],2)\n",
    "p2 = np.polyfit(XX,PredXIN['Cured'],2)\n",
    "print(p1)\n",
    "print(p2)\n",
    "\n",
    "print('\\nPredicttion Eqn of Confirmed Cases is round(34183.44837838+X*(-1736.73743086)+121.21847832*X*X)')\n",
    "print('Predicttion Eqn of Cured Cases is round(20990.53843528+X*(-2365.56173147)+88.98286294*X*X')"
   ]
  },
  {
   "cell_type": "code",
   "execution_count": null,
   "metadata": {},
   "outputs": [],
   "source": [
    "X = pd.Series(XX)\n",
    "PredictedConfirmed = pd.DataFrame(round(34183.44837838+X*(-1736.73743086)+121.21847832*X*X),columns = ['Predicted'])\n",
    "CompareConfirmed =  pd.DataFrame(np.column_stack([PredictedConfirmed,PredXIN['Confirmed']]),columns=['Predicted','Actual_Confirmed'])\n",
    "\n",
    "PredictedCured = pd.DataFrame(round(20990.53843528+X*(-2365.56173147)+88.98286294*X*X),columns = ['Predicted'])\n",
    "CompareCured =  pd.DataFrame(np.column_stack([PredictedCured,PredXIN['Cured']]),columns=['Predicted','Actual_Cured'])\n"
   ]
  },
  {
   "cell_type": "code",
   "execution_count": null,
   "metadata": {},
   "outputs": [],
   "source": [
    "CompareConfirmed.tail()"
   ]
  },
  {
   "cell_type": "code",
   "execution_count": null,
   "metadata": {},
   "outputs": [],
   "source": [
    "CompareConfirmed.plot()\n",
    "plt.show()"
   ]
  },
  {
   "cell_type": "code",
   "execution_count": null,
   "metadata": {},
   "outputs": [],
   "source": [
    "print('Mean Absolute Error:', metrics.mean_absolute_error(PredXIN['Confirmed'], PredictedConfirmed))  \n",
    "print('Root Mean Squared Error:', np.sqrt(metrics.mean_squared_error(PredXIN['Confirmed'], PredictedConfirmed)))"
   ]
  },
  {
   "cell_type": "code",
   "execution_count": null,
   "metadata": {},
   "outputs": [],
   "source": [
    "CompareCured.tail()"
   ]
  },
  {
   "cell_type": "code",
   "execution_count": null,
   "metadata": {},
   "outputs": [],
   "source": [
    "CompareCured.plot()\n",
    "plt.show()"
   ]
  },
  {
   "cell_type": "code",
   "execution_count": null,
   "metadata": {},
   "outputs": [],
   "source": [
    "print('Mean Absolute Error:', metrics.mean_absolute_error(PredXIN['Cured'], PredictedCured))\n",
    "print('Root Mean Squared Error:', np.sqrt(metrics.mean_squared_error(PredXIN['Cured'], PredictedCured)))"
   ]
  },
  {
   "cell_type": "markdown",
   "metadata": {},
   "source": [
    "# When we start seeing flattening and or possible declining of respective curves for confirmed and cured case we will modify our predictor model and use polynomial of degree 3 to accomodate the same. If we observe the Confirmed cases plot we can see inflexion point (where second derivative, i.e rate of change of slope changes sign from positive to negative - early sign of flattening or possible decline)"
   ]
  },
  {
   "cell_type": "code",
   "execution_count": null,
   "metadata": {},
   "outputs": [],
   "source": [
    "print('Predicting for future dates:')\n",
    "print('Date 19.04.2020 is Day 1')\n",
    "print('Date 03.07.2020 is Day 76')\n",
    "print('\\nPredicttion Eqn of Confirmed Cases is round(34183.44837838+X*(-1736.73743086)+121.21847832*X*X)')\n",
    "print('Predicttion Eqn of Cured Cases is round(20990.53843528+X*(-2365.56173147)+88.98286294*X*X')"
   ]
  },
  {
   "cell_type": "code",
   "execution_count": null,
   "metadata": {},
   "outputs": [],
   "source": []
  }
 ],
 "metadata": {
  "kernelspec": {
   "display_name": "Python 3",
   "language": "python",
   "name": "python3"
  }
 },
 "nbformat": 4,
 "nbformat_minor": 4
}
